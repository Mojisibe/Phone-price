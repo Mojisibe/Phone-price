{
 "cells": [
  {
   "cell_type": "markdown",
   "id": "57249a0e",
   "metadata": {},
   "source": [
    "# import libraries"
   ]
  },
  {
   "cell_type": "code",
   "execution_count": 1,
   "id": "c7a52fbb",
   "metadata": {},
   "outputs": [],
   "source": [
    "from bs4 import BeautifulSoup #to scrape the website\n",
    "import requests #to request the website\n",
    "from csv import writer #to write the data into csv\n",
    "import pandas as pd # to open the data"
   ]
  },
  {
   "cell_type": "markdown",
   "id": "c2a42f35",
   "metadata": {},
   "source": [
    "# Scrape Jumia website and write it into csv file"
   ]
  },
  {
   "cell_type": "code",
   "execution_count": 2,
   "id": "7c29aaff",
   "metadata": {},
   "outputs": [],
   "source": [
    "url = \"https://www.jumia.com.ng/phones-tablets/\"\n",
    "page = requests.get(url)\n",
    "\n",
    "soup = BeautifulSoup(page.content, \"html.parser\")\n",
    "lists = soup.find_all('div', class_= \"itm col\")\n",
    "with open(\"price.csv\", 'w', encoding = 'utf8', newline = '') as f:\n",
    "    the_writer = writer(f)\n",
    "    headers = [\"Name\", \"price\"]\n",
    "    the_writer.writerow(headers)\n",
    "    for l in lists:\n",
    "        name = l.find('div', class_=\"name\").text\n",
    "        price = l.find('div',class_=\"prc\").text\n",
    "        info = [name, price]\n",
    "        the_writer.writerow(info)"
   ]
  },
  {
   "cell_type": "markdown",
   "id": "07b46bee",
   "metadata": {},
   "source": [
    "# read csv file"
   ]
  },
  {
   "cell_type": "code",
   "execution_count": 3,
   "id": "34c51454",
   "metadata": {},
   "outputs": [
    {
     "data": {
      "text/html": [
       "<div>\n",
       "<style scoped>\n",
       "    .dataframe tbody tr th:only-of-type {\n",
       "        vertical-align: middle;\n",
       "    }\n",
       "\n",
       "    .dataframe tbody tr th {\n",
       "        vertical-align: top;\n",
       "    }\n",
       "\n",
       "    .dataframe thead th {\n",
       "        text-align: right;\n",
       "    }\n",
       "</style>\n",
       "<table border=\"1\" class=\"dataframe\">\n",
       "  <thead>\n",
       "    <tr style=\"text-align: right;\">\n",
       "      <th></th>\n",
       "      <th>Name</th>\n",
       "      <th>price</th>\n",
       "    </tr>\n",
       "  </thead>\n",
       "  <tbody>\n",
       "    <tr>\n",
       "      <th>0</th>\n",
       "      <td>UMIDIGI A13 Pro (6GB,128GB ROM) 5150mAh NFC (4...</td>\n",
       "      <td>₦ 96,900</td>\n",
       "    </tr>\n",
       "    <tr>\n",
       "      <th>1</th>\n",
       "      <td>Infinix Hot 12 Play, 4GB/64GB Memory - Racing ...</td>\n",
       "      <td>₦ 80,950</td>\n",
       "    </tr>\n",
       "    <tr>\n",
       "      <th>2</th>\n",
       "      <td>Tecno Sonic 1 Fireboy DML Wireless Bluetooth E...</td>\n",
       "      <td>₦ 19,999</td>\n",
       "    </tr>\n",
       "    <tr>\n",
       "      <th>3</th>\n",
       "      <td>Infinix Hot 11S, 6.7\" IPS LCD Screen, 4GB/64GB...</td>\n",
       "      <td>₦ 85,000</td>\n",
       "    </tr>\n",
       "    <tr>\n",
       "      <th>4</th>\n",
       "      <td>itel A58 Pro,6.6\", 2GB/32GB,4000mAh Battery - ...</td>\n",
       "      <td>₦ 45,500</td>\n",
       "    </tr>\n",
       "  </tbody>\n",
       "</table>\n",
       "</div>"
      ],
      "text/plain": [
       "                                                Name     price\n",
       "0  UMIDIGI A13 Pro (6GB,128GB ROM) 5150mAh NFC (4...  ₦ 96,900\n",
       "1  Infinix Hot 12 Play, 4GB/64GB Memory - Racing ...  ₦ 80,950\n",
       "2  Tecno Sonic 1 Fireboy DML Wireless Bluetooth E...  ₦ 19,999\n",
       "3  Infinix Hot 11S, 6.7\" IPS LCD Screen, 4GB/64GB...  ₦ 85,000\n",
       "4  itel A58 Pro,6.6\", 2GB/32GB,4000mAh Battery - ...  ₦ 45,500"
      ]
     },
     "execution_count": 3,
     "metadata": {},
     "output_type": "execute_result"
    }
   ],
   "source": [
    "data = pd.read_csv(\"price.csv\")\n",
    "data.head()"
   ]
  }
 ],
 "metadata": {
  "kernelspec": {
   "display_name": "Python 3 (ipykernel)",
   "language": "python",
   "name": "python3"
  },
  "language_info": {
   "codemirror_mode": {
    "name": "ipython",
    "version": 3
   },
   "file_extension": ".py",
   "mimetype": "text/x-python",
   "name": "python",
   "nbconvert_exporter": "python",
   "pygments_lexer": "ipython3",
   "version": "3.9.12"
  }
 },
 "nbformat": 4,
 "nbformat_minor": 5
}
